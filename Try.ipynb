{
 "cells": [
  {
   "cell_type": "code",
   "execution_count": 1,
   "metadata": {},
   "outputs": [],
   "source": [
    "import matplotlib.pyplot as plt\n",
    "import seaborn as sns; sns.set()  # for plot styling\n",
    "import numpy as np\n",
    "import pandas as pd\n",
    "from sklearn.cluster import k_means, kmeans_plusplus, KMeans\n",
    "from sklearn.decomposition import PCA\n",
    "import math \n",
    "import matplotlib as mpl\n",
    "from sklearn.preprocessing import StandardScaler"
   ]
  },
  {
   "cell_type": "code",
   "execution_count": 2,
   "metadata": {},
   "outputs": [],
   "source": [
    "#Display multiple digits\n",
    "def showDigits(digits, labels, indexes, size=28):\n",
    "    #Make a grid that is the right size\n",
    "    pics = len(indexes)\n",
    "    cols = 6\n",
    "    rows = math.ceil(pics/cols)\n",
    "    fig, axes = plt.subplots(rows, cols, figsize=(14,6))\n",
    "    plt.axis(\"off\")\n",
    "\n",
    "    #loop through the list of indexes, grab images and labels, plot in the \"next\" spot. \n",
    "    for i in range(0, pics):\n",
    "        n = indexes[i]\n",
    "        some_digit = digits[n:n+1]\n",
    "        some_digit_image = np.array(some_digit).reshape(size, size)\n",
    "        ax = axes[i//cols, i%cols]\n",
    "        ax.axis(\"off\")\n",
    "        ax.imshow(some_digit_image, cmap=mpl.cm.binary)\n",
    "        ax.set_title('Ind: {} - Lbl: {}'.format(indexes[i], labels[i]))\n",
    "    plt.tight_layout()\n",
    "    plt.axis(\"off\")\n",
    "    plt.show()"
   ]
  },
  {
   "cell_type": "code",
   "execution_count": 3,
   "metadata": {},
   "outputs": [
    {
     "name": "stdout",
     "output_type": "stream",
     "text": [
      "(70000, 784)\n"
     ]
    }
   ],
   "source": [
    "#Load Data\n",
    "from sklearn.datasets import fetch_openml\n",
    "mnist = fetch_openml('mnist_784', version=1)\n",
    "#mnist = mnist[0:15000]\n",
    "X = mnist[\"data\"]\n",
    "print(X.shape)"
   ]
  },
  {
   "cell_type": "code",
   "execution_count": 4,
   "metadata": {},
   "outputs": [
    {
     "data": {
      "text/plain": [
       "(10, 784)"
      ]
     },
     "execution_count": 4,
     "metadata": {},
     "output_type": "execute_result"
    }
   ],
   "source": [
    "kmeans=KMeans(n_clusters=10, random_state=42)\n",
    "clusters=kmeans.fit(X)\n",
    "\n",
    "y_kmeans=kmeans.predict(X)\n",
    "centers=kmeans.cluster_centers_\n",
    "centers.shape"
   ]
  },
  {
   "cell_type": "code",
   "execution_count": 6,
   "metadata": {},
   "outputs": [
    {
     "data": {
      "image/png": "[encoded data removed]",
      "text/plain": [
       "<Figure size 1440x720 with 10 Axes>"
      ]
     },
     "metadata": {},
     "output_type": "display_data"
    }
   ],
   "source": [
    "centers = centers.reshape(10,28,28)\n",
    "fig, ax = plt.subplots(2, 5, figsize=(20, 10))\n",
    "\n",
    "for axi, center in zip(ax.flat, centers):\n",
    "    axi.set(xticks=[], yticks=[])\n",
    "    axi.imshow(center, interpolation='nearest', cmap=plt.cm.binary)"
   ]
  },
  {
   "cell_type": "code",
   "execution_count": 8,
   "metadata": {},
   "outputs": [
    {
     "ename": "NameError",
     "evalue": "name 'clusters2' is not defined",
     "output_type": "error",
     "traceback": [
      "\u001b[1;31m---------------------------------------------------------------------------\u001b[0m",
      "\u001b[1;31mNameError\u001b[0m                                 Traceback (most recent call last)",
      "\u001b[1;32mc:\\Users\\taraz\\OneDrive\\Documents\\3950\\ItML_Asn_3_Students\\Try.ipynb Cell 6\u001b[0m in \u001b[0;36m<cell line: 4>\u001b[1;34m()\u001b[0m\n\u001b[0;32m      <a href='vscode-notebook-cell:/c%3A/Users/taraz/OneDrive/Documents/3950/ItML_Asn_3_Students/Try.ipynb#X11sZmlsZQ%3D%3D?line=0'>1</a>\u001b[0m \u001b[39m# Assign labels to clusters based on the majority class\u001b[39;00m\n\u001b[1;32m----> <a href='vscode-notebook-cell:/c%3A/Users/taraz/OneDrive/Documents/3950/ItML_Asn_3_Students/Try.ipynb#X11sZmlsZQ%3D%3D?line=3'>4</a>\u001b[0m new_labels \u001b[39m=\u001b[39m np\u001b[39m.\u001b[39mzeros_like(clusters2)\n\u001b[0;32m      <a href='vscode-notebook-cell:/c%3A/Users/taraz/OneDrive/Documents/3950/ItML_Asn_3_Students/Try.ipynb#X11sZmlsZQ%3D%3D?line=4'>5</a>\u001b[0m \u001b[39mfor\u001b[39;00m i \u001b[39min\u001b[39;00m \u001b[39mrange\u001b[39m(\u001b[39m10\u001b[39m):\n\u001b[0;32m      <a href='vscode-notebook-cell:/c%3A/Users/taraz/OneDrive/Documents/3950/ItML_Asn_3_Students/Try.ipynb#X11sZmlsZQ%3D%3D?line=5'>6</a>\u001b[0m     mask \u001b[39m=\u001b[39m (clusters2 \u001b[39m==\u001b[39m i)\n",
      "\u001b[1;31mNameError\u001b[0m: name 'clusters2' is not defined"
     ]
    }
   ],
   "source": [
    "# Assign labels to clusters based on the majority class\n",
    "\n",
    "\n",
    "new_labels = np.zeros_like(clusters2)\n",
    "for i in range(10):\n",
    "    mask = (clusters2 == i)\n",
    "    new_labels[mask] = np.argmax(np.bincount(mnist.target[mask].astype(int)))\n",
    "\n",
    "# Add the new labels to the data\n",
    "    new_data = np.c_[X, new_labels]"
   ]
  },
  {
   "cell_type": "code",
   "execution_count": null,
   "metadata": {},
   "outputs": [],
   "source": []
  }
 ],
 "metadata": {
  "kernelspec": {
   "display_name": "base",
   "language": "python",
   "name": "python3"
  },
  "language_info": {
   "codemirror_mode": {
    "name": "ipython",
    "version": 3
   },
   "file_extension": ".py",
   "mimetype": "text/x-python",
   "name": "python",
   "nbconvert_exporter": "python",
   "pygments_lexer": "ipython3",
   "version": "3.9.12"
  },
  "orig_nbformat": 4
 },
 "nbformat": 4,
 "nbformat_minor": 2
}
