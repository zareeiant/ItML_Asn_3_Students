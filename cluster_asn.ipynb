{
 "cells": [
  {
   "cell_type": "code",
   "execution_count": 1,
   "metadata": {},
   "outputs": [],
   "source": [
    "import matplotlib.pyplot as plt\n",
    "import seaborn as sns; sns.set()  # for plot styling\n",
    "import numpy as np\n",
    "import pandas as pd\n",
    "from sklearn.cluster import k_means, kmeans_plusplus, KMeans\n",
    "from sklearn.decomposition import PCA"
   ]
  },
  {
   "attachments": {},
   "cell_type": "markdown",
   "metadata": {},
   "source": [
    "# Assignment 3 - Clustering\n",
    "\n",
    "For this assignment you'll need to use some clustering knowledge to build a function that can generate handwritten numbers from a provided number. \n",
    "\n",
    "The modelling parts of this assignment are not very complex, the application of the clustering algorithms is very similar to the examples from class. This will require a little more manipulation of data, and building a little bit of structure around the models, that's where some of the challenge lies. \n",
    "\n",
    "## Requirements\n",
    "<ul>\n",
    "<li>Use clustering to take the X data (the features/pixels) of the MNIST dataset, and group it into clusters. \n",
    "    <ul>\n",
    "    <li> Do not use the targets from the dataset at all. \n",
    "    <li> Use as many clusters as you think is appropriate.\n",
    "    </ul>\n",
    "<li>Assign labels to your clusters, so there is now a label for each cluster. You'll need to manually do a little mapping here by eye. \n",
    "<li><b>So, to this point. You take the images, ditch their labels, and do clustering to group them. You don't know which cluster is which digit. You have to then label them, or look at each one and say, \"looks like 7s\", then assign that group a label of 7. </b>\n",
    "<li>Use GMM to build a function that can generate a new digit from the information in the cluster. \n",
    "<li>Write a function, writeNumber, that can take in an integer (you can assume it is between 1 and 20 digits, this is mostly for printing purposes, the modelling part isn't impacted by this at all) and print out that integer as a generated handwritten number. \n",
    "<li><b>When generating the handwritten numbers, each version of a digit should be different. I.e. If the number printed is 22222, there should not be 5 identical 2s, they should vary a bit like real writing. Each digit should be a new generation of data.</b>\n",
    "</ul>\n",
    "\n",
    "## Deliverables\n",
    "Submit your .ipynb file to the Moodle dropbox. PLEASE make sure that the file runs BY ITSELF outside of importing libraries. It should not reference any other files, either data or code. \n",
    "\n",
    "Within your file, create a function called writeNumber, which takes a number as an input, and prints it out as a series of handwritten digits. The function should be callable like this, if I wanted to print the number 218201\n",
    "\n",
    "~~~\n",
    "writeNumber(218201)\n",
    "~~~\n",
    "\n",
    "This would produce something that looks, somewhat, like this:\n",
    "\n",
    "![Writing Example](example.png \"Writing Example\" )\n",
    "\n",
    "The exact appearance of the generated writing can vary, it likely won't be as well defined as this picture. As long as I can read it as a number, it is fine. \n",
    "\n",
    "Hint: the number of clusters may vary. \n",
    "\n",
    "## Grading\n",
    "<ul>\n",
    "<li> 70% - Code works. This is mostly a yes/no thing, if it doesn't work I'll try to see if it was a small or large issue in the code, but it largely works or it doesn't. \n",
    "<li> 20% - Numbers appearance. Is the writing OK? I'm not going to be overly picky, if they are reasonably legible, that is fine. \n",
    "<li> 10% - Code legibility. Is a quick read over of the code clear? Sections, comments, etc... \n",
    "</ul>"
   ]
  },
  {
   "cell_type": "markdown",
   "metadata": {},
   "source": [
    "## Load Data\n",
    "<b> Please do not change this (substantially), probably outside of choosing between the full data and a subset. Don't load the target. </b>\n",
    "\n",
    "Note: testing will be much faster with a subset of records. "
   ]
  },
  {
   "cell_type": "code",
   "execution_count": 2,
   "metadata": {},
   "outputs": [
    {
     "name": "stdout",
     "output_type": "stream",
     "text": [
      "(70000, 784)\n"
     ]
    }
   ],
   "source": [
    "#Load Data\n",
    "from sklearn.datasets import fetch_openml\n",
    "mnist = fetch_openml('mnist_784', version=1)\n",
    "#mnist = mnist[0:15000]\n",
    "X = mnist[\"data\"]\n",
    "print(X.shape)"
   ]
  },
  {
   "cell_type": "code",
   "execution_count": 3,
   "metadata": {},
   "outputs": [
    {
     "data": {
      "text/plain": [
       "(10, 784)"
      ]
     },
     "execution_count": 3,
     "metadata": {},
     "output_type": "execute_result"
    }
   ],
   "source": [
    "kmeans = KMeans(n_clusters=10)\n",
    "clusters = kmeans.fit_predict(X)\n",
    "kmeans.cluster_centers_.shape"
   ]
  },
  {
   "cell_type": "code",
   "execution_count": 4,
   "metadata": {},
   "outputs": [
    {
     "ename": "ValueError",
     "evalue": "cannot reshape array of size 7840 into shape (10,8,8)",
     "output_type": "error",
     "traceback": [
      "\u001b[1;31m---------------------------------------------------------------------------\u001b[0m",
      "\u001b[1;31mValueError\u001b[0m                                Traceback (most recent call last)",
      "\u001b[1;32mc:\\Users\\taraz\\OneDrive\\Documents\\3950\\ItML_Asn_3_Students\\cluster_asn.ipynb Cell 6\u001b[0m in \u001b[0;36m<cell line: 2>\u001b[1;34m()\u001b[0m\n\u001b[0;32m      <a href='vscode-notebook-cell:/c%3A/Users/taraz/OneDrive/Documents/3950/ItML_Asn_3_Students/cluster_asn.ipynb#X13sZmlsZQ%3D%3D?line=0'>1</a>\u001b[0m fig, ax \u001b[39m=\u001b[39m plt\u001b[39m.\u001b[39msubplots(\u001b[39m2\u001b[39m, \u001b[39m5\u001b[39m, figsize\u001b[39m=\u001b[39m(\u001b[39m8\u001b[39m, \u001b[39m3\u001b[39m))\n\u001b[1;32m----> <a href='vscode-notebook-cell:/c%3A/Users/taraz/OneDrive/Documents/3950/ItML_Asn_3_Students/cluster_asn.ipynb#X13sZmlsZQ%3D%3D?line=1'>2</a>\u001b[0m centers \u001b[39m=\u001b[39m kmeans\u001b[39m.\u001b[39;49mcluster_centers_\u001b[39m.\u001b[39;49mreshape(\u001b[39m10\u001b[39;49m, \u001b[39m8\u001b[39;49m, \u001b[39m8\u001b[39;49m)\n\u001b[0;32m      <a href='vscode-notebook-cell:/c%3A/Users/taraz/OneDrive/Documents/3950/ItML_Asn_3_Students/cluster_asn.ipynb#X13sZmlsZQ%3D%3D?line=2'>3</a>\u001b[0m \u001b[39mfor\u001b[39;00m axi, center \u001b[39min\u001b[39;00m \u001b[39mzip\u001b[39m(ax\u001b[39m.\u001b[39mflat, centers):\n\u001b[0;32m      <a href='vscode-notebook-cell:/c%3A/Users/taraz/OneDrive/Documents/3950/ItML_Asn_3_Students/cluster_asn.ipynb#X13sZmlsZQ%3D%3D?line=3'>4</a>\u001b[0m     axi\u001b[39m.\u001b[39mset(xticks\u001b[39m=\u001b[39m[], yticks\u001b[39m=\u001b[39m[])\n",
      "\u001b[1;31mValueError\u001b[0m: cannot reshape array of size 7840 into shape (10,8,8)"
     ]
    },
    {
     "data": {
      "image/png": "[encoded data removed]",
      "text/plain": [
       "<Figure size 576x216 with 10 Axes>"
      ]
     },
     "metadata": {},
     "output_type": "display_data"
    }
   ],
   "source": [
    "fig, ax = plt.subplots(2, 5, figsize=(8, 3))\n",
    "centers = kmeans.cluster_centers_.reshape(10, 8, 8)\n",
    "for axi, center in zip(ax.flat, centers):\n",
    "    axi.set(xticks=[], yticks=[])\n",
    "    axi.imshow(center, interpolation='nearest', cmap=plt.cm.binary)"
   ]
  },
  {
   "cell_type": "code",
   "execution_count": 3,
   "metadata": {},
   "outputs": [],
   "source": [
    "#Look at an image\n",
    "def showDigit(digit, label, size=28):\n",
    "    some_digit = digit\n",
    "    #turn array into the correct shape\n",
    "    some_digit_image = np.array(some_digit).reshape(size, size)\n",
    "    #imshow displays an array like an image\n",
    "    plt.imshow(some_digit_image, cmap=mpl.cm.binary)\n",
    "    plt.title(label)\n",
    "    plt.axis(\"off\")\n",
    "    plt.show()"
   ]
  },
  {
   "cell_type": "code",
   "execution_count": null,
   "metadata": {},
   "outputs": [],
   "source": [
    "#Display multiple digits\n",
    "def showDigits(digits, labels, indexes, size=28):\n",
    "    #Make a grid that is the right size\n",
    "    pics = len(indexes)\n",
    "    cols = 6\n",
    "    rows = math.ceil(pics/cols)\n",
    "    fig, axes = plt.subplots(rows, cols, figsize=(14,6))\n",
    "    plt.axis(\"off\")\n",
    "\n",
    "    #loop through the list of indexes, grab images and labels, plot in the \"next\" spot. \n",
    "    for i in range(0, pics):\n",
    "        n = indexes[i]\n",
    "        some_digit = digits[n:n+1]\n",
    "        some_digit_image = np.array(some_digit).reshape(size, size)\n",
    "        ax = axes[i//cols, i%cols]\n",
    "        ax.axis(\"off\")\n",
    "        ax.imshow(some_digit_image, cmap=mpl.cm.binary)\n",
    "        ax.set_title('Ind: {} - Lbl: {}'.format(indexes[i], labels[n]))\n",
    "    plt.tight_layout()\n",
    "    plt.axis(\"off\")\n",
    "    plt.show()"
   ]
  },
  {
   "cell_type": "code",
   "execution_count": null,
   "metadata": {},
   "outputs": [],
   "source": [
    "y_3 = (pd.Series(digits.target) == 3)\n",
    "X_train_dig, X_test_dig, y_train_dig, y_test_dig = train_test_split(digits.data, y_3, test_size=0.3, random_state=42)\n",
    "X_train_dig.shape, y_train_dig.shape, X_test_dig.shape, y_test_dig.shape"
   ]
  },
  {
   "cell_type": "code",
   "execution_count": null,
   "metadata": {},
   "outputs": [],
   "source": [
    "scaler = MinMaxScaler()\n",
    "estimator = LogisticRegression(n_jobs=-1)\n",
    "pipe = Pipeline(steps=[(\"scaler\", scaler), (\"log\", estimator)])\n",
    "\n",
    "pipe.fit(X_train_dig, y_train_dig.ravel())\n",
    "\n",
    "print(\"Testing Accuracy:\", pipe.score(X_train_dig, y_train_dig))\n",
    "print(\"Training Accuracy:\", pipe.score(X_test_dig, y_test_dig))"
   ]
  },
  {
   "cell_type": "markdown",
   "metadata": {},
   "source": [
    "## Cluster \n",
    "\n",
    "We need to break the data into clusters first... "
   ]
  }
 ],
 "metadata": {
  "interpreter": {
   "hash": "4d722d3adfa415172c1f5238b519fb86b488acdae450fd691ab06c09f4ca9173"
  },
  "kernelspec": {
   "display_name": "Python 3.9.7 64-bit ('ml3950': conda)",
   "language": "python",
   "name": "python3"
  },
  "language_info": {
   "codemirror_mode": {
    "name": "ipython",
    "version": 3
   },
   "file_extension": ".py",
   "mimetype": "text/x-python",
   "name": "python",
   "nbconvert_exporter": "python",
   "pygments_lexer": "ipython3",
   "version": "3.9.12"
  },
  "orig_nbformat": 4
 },
 "nbformat": 4,
 "nbformat_minor": 2
}
